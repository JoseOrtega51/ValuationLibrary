{
  "nbformat": 4,
  "nbformat_minor": 0,
  "metadata": {
    "colab": {
      "provenance": [],
      "authorship_tag": "ABX9TyMiJ7tGV1aBA5t9XO4nwApo",
      "include_colab_link": true
    },
    "kernelspec": {
      "name": "python3",
      "display_name": "Python 3"
    },
    "language_info": {
      "name": "python"
    }
  },
  "cells": [
    {
      "cell_type": "markdown",
      "metadata": {
        "id": "view-in-github",
        "colab_type": "text"
      },
      "source": [
        "<a href=\"https://colab.research.google.com/github/JoseOrtega51/ValuationLibrary/blob/main/examples/butterfly_spread_colab.ipynb\" target=\"_parent\"><img src=\"https://colab.research.google.com/assets/colab-badge.svg\" alt=\"Open In Colab\"/></a>"
      ]
    },
    {
      "cell_type": "code",
      "source": [
        "!git clone https://github.com/JoseOrtega51/ValuationLibrary.git"
      ],
      "metadata": {
        "colab": {
          "base_uri": "https://localhost:8080/"
        },
        "id": "GAiiVa8LqgXx",
        "outputId": "759f237d-b052-465a-cd1c-c87ba22a6f14"
      },
      "execution_count": 1,
      "outputs": [
        {
          "output_type": "stream",
          "name": "stdout",
          "text": [
            "Cloning into 'ValuationLibrary'...\n",
            "remote: Enumerating objects: 103, done.\u001b[K\n",
            "remote: Counting objects: 100% (103/103), done.\u001b[K\n",
            "remote: Compressing objects: 100% (63/63), done.\u001b[K\n",
            "Receiving objects: 100% (103/103), 41.53 KiB | 3.46 MiB/s, done.\n",
            "remote: Total 103 (delta 51), reused 87 (delta 38), pack-reused 0 (from 0)\u001b[K\n",
            "Resolving deltas: 100% (51/51), done.\n"
          ]
        }
      ]
    },
    {
      "cell_type": "code",
      "source": [
        "!!cd ValuationLibrary/ && git pull"
      ],
      "metadata": {
        "colab": {
          "base_uri": "https://localhost:8080/"
        },
        "id": "O75DEtvZyUTD",
        "outputId": "f9862d24-3f55-4aac-8e4e-c988af9c9797"
      },
      "execution_count": 7,
      "outputs": [
        {
          "output_type": "execute_result",
          "data": {
            "text/plain": [
              "['remote: Enumerating objects: 7, done.\\x1b[K',\n",
              " 'remote: Counting objects:  14% (1/7)\\x1b[K',\n",
              " 'remote: Counting objects:  28% (2/7)\\x1b[K',\n",
              " 'remote: Counting objects:  42% (3/7)\\x1b[K',\n",
              " 'remote: Counting objects:  57% (4/7)\\x1b[K',\n",
              " 'remote: Counting objects:  71% (5/7)\\x1b[K',\n",
              " 'remote: Counting objects:  85% (6/7)\\x1b[K',\n",
              " 'remote: Counting objects: 100% (7/7)\\x1b[K',\n",
              " 'remote: Counting objects: 100% (7/7), done.\\x1b[K',\n",
              " 'remote: Compressing objects:  50% (1/2)\\x1b[K',\n",
              " 'remote: Compressing objects: 100% (2/2)\\x1b[K',\n",
              " 'remote: Compressing objects: 100% (2/2), done.\\x1b[K',\n",
              " 'remote: Total 4 (delta 2), reused 4 (delta 2), pack-reused 0 (from 0)\\x1b[K',\n",
              " 'Unpacking objects:  25% (1/4)',\n",
              " 'Unpacking objects:  50% (2/4)',\n",
              " 'Unpacking objects:  75% (3/4)',\n",
              " 'Unpacking objects: 100% (4/4)',\n",
              " 'Unpacking objects: 100% (4/4), 505 bytes | 505.00 KiB/s, done.',\n",
              " 'From https://github.com/JoseOrtega51/ValuationLibrary',\n",
              " '   17ced4b..e3e717f  FixingColab -> origin/FixingColab',\n",
              " 'Updating 17ced4b..e3e717f',\n",
              " 'Fast-forward',\n",
              " ' src/ValuationMathTools.h | 3 \\x1b[32m+++\\x1b[m',\n",
              " ' 1 file changed, 3 insertions(+)']"
            ]
          },
          "metadata": {},
          "execution_count": 7
        }
      ]
    },
    {
      "cell_type": "code",
      "source": [
        "!apt-get update\n",
        "!apt-get install -y build-essential\n",
        "!pip install pybind11 setuptools"
      ],
      "metadata": {
        "colab": {
          "base_uri": "https://localhost:8080/"
        },
        "id": "r6oYFPNtofGW",
        "outputId": "4d418c0e-f2f4-4d14-9999-95c3acdb2a13"
      },
      "execution_count": 3,
      "outputs": [
        {
          "output_type": "stream",
          "name": "stdout",
          "text": [
            "Get:1 http://security.ubuntu.com/ubuntu jammy-security InRelease [129 kB]\n",
            "Hit:2 http://archive.ubuntu.com/ubuntu jammy InRelease\n",
            "Get:3 https://cloud.r-project.org/bin/linux/ubuntu jammy-cran40/ InRelease [3,626 B]\n",
            "Hit:4 https://developer.download.nvidia.com/compute/cuda/repos/ubuntu2204/x86_64  InRelease\n",
            "Get:5 http://archive.ubuntu.com/ubuntu jammy-updates InRelease [128 kB]\n",
            "Get:6 https://r2u.stat.illinois.edu/ubuntu jammy InRelease [6,555 B]\n",
            "Hit:7 https://ppa.launchpadcontent.net/deadsnakes/ppa/ubuntu jammy InRelease\n",
            "Get:8 http://archive.ubuntu.com/ubuntu jammy-backports InRelease [127 kB]\n",
            "Hit:9 https://ppa.launchpadcontent.net/graphics-drivers/ppa/ubuntu jammy InRelease\n",
            "Hit:10 https://ppa.launchpadcontent.net/ubuntugis/ppa/ubuntu jammy InRelease\n",
            "Get:11 http://security.ubuntu.com/ubuntu jammy-security/main amd64 Packages [2,452 kB]\n",
            "Get:12 http://security.ubuntu.com/ubuntu jammy-security/universe amd64 Packages [1,224 kB]\n",
            "Get:13 https://r2u.stat.illinois.edu/ubuntu jammy/main amd64 Packages [2,619 kB]\n",
            "Get:14 https://r2u.stat.illinois.edu/ubuntu jammy/main all Packages [8,506 kB]\n",
            "Get:15 http://archive.ubuntu.com/ubuntu jammy-updates/universe amd64 Packages [1,513 kB]\n",
            "Get:16 http://archive.ubuntu.com/ubuntu jammy-updates/main amd64 Packages [2,736 kB]\n",
            "Get:17 http://archive.ubuntu.com/ubuntu jammy-backports/universe amd64 Packages [35.2 kB]\n",
            "Fetched 19.5 MB in 7s (2,984 kB/s)\n",
            "Reading package lists... Done\n",
            "W: Skipping acquire of configured file 'main/source/Sources' as repository 'https://r2u.stat.illinois.edu/ubuntu jammy InRelease' does not seem to provide it (sources.list entry misspelt?)\n",
            "Reading package lists... Done\n",
            "Building dependency tree... Done\n",
            "Reading state information... Done\n",
            "build-essential is already the newest version (12.9ubuntu3).\n",
            "0 upgraded, 0 newly installed, 0 to remove and 49 not upgraded.\n",
            "Collecting pybind11\n",
            "  Downloading pybind11-2.13.6-py3-none-any.whl.metadata (9.5 kB)\n",
            "Requirement already satisfied: setuptools in /usr/local/lib/python3.10/dist-packages (75.1.0)\n",
            "Downloading pybind11-2.13.6-py3-none-any.whl (243 kB)\n",
            "\u001b[2K   \u001b[90m━━━━━━━━━━━━━━━━━━━━━━━━━━━━━━━━━━━━━━━━\u001b[0m \u001b[32m243.3/243.3 kB\u001b[0m \u001b[31m4.2 MB/s\u001b[0m eta \u001b[36m0:00:00\u001b[0m\n",
            "\u001b[?25hInstalling collected packages: pybind11\n",
            "Successfully installed pybind11-2.13.6\n"
          ]
        }
      ]
    },
    {
      "cell_type": "code",
      "source": [
        "!cd ValuationLibrary/ && pip install ."
      ],
      "metadata": {
        "colab": {
          "base_uri": "https://localhost:8080/"
        },
        "id": "aj2vcjxgxTjN",
        "outputId": "8168ae3f-b962-419b-e604-a2a5e8bba2c8"
      },
      "execution_count": 8,
      "outputs": [
        {
          "output_type": "stream",
          "name": "stdout",
          "text": [
            "Processing /content/ValuationLibrary\n",
            "  Preparing metadata (setup.py) ... \u001b[?25l\u001b[?25hdone\n",
            "Building wheels for collected packages: ValuationLibrary\n",
            "  Building wheel for ValuationLibrary (setup.py) ... \u001b[?25l\u001b[?25hdone\n",
            "  Created wheel for ValuationLibrary: filename=ValuationLibrary-0.1-cp310-cp310-linux_x86_64.whl size=3762432 sha256=a1fe24c4256bbb907e60fee8d7d648cca343761031902ef2aa6c7f4395223ff8\n",
            "  Stored in directory: /tmp/pip-ephem-wheel-cache-y_w353j2/wheels/3c/94/ca/fa817abf972cbdca2a52ca1f571e25f8a2a9f9df7dc9092437\n",
            "Successfully built ValuationLibrary\n",
            "Installing collected packages: ValuationLibrary\n",
            "  Attempting uninstall: ValuationLibrary\n",
            "    Found existing installation: ValuationLibrary 0.1\n",
            "    Uninstalling ValuationLibrary-0.1:\n",
            "      Successfully uninstalled ValuationLibrary-0.1\n",
            "Successfully installed ValuationLibrary-0.1\n"
          ]
        }
      ]
    },
    {
      "cell_type": "code",
      "source": [
        "import ValuationLibrary as ValLry\n",
        "import numpy as np\n",
        "import matplotlib.pyplot as plt\n",
        "\n",
        "#BSM parameters\n",
        "vol = 0.2\n",
        "r = 0.02\n",
        "\n",
        "#Define a strategy portfolio\n",
        "BFS = ValLry.portfolio()\n",
        "\n",
        "################## CREATE BUTTERFLY SPREAD ####################################\n",
        "dK = 10.\n",
        "K0 = 100.\n",
        "\n",
        "strikes = [K0 - dK, K0, K0, K0 + dK]\n",
        "positions = ['L', 'S', 'S', 'L']\n",
        "\n",
        "i = 0\n",
        "for K in strikes:\n",
        "\n",
        "    #Define a European Option\n",
        "    OpcionCall = ValLry.EuropeanOption(ValLry.OptionType.CALL,K, 1.)\n",
        "\n",
        "    #set the default model\n",
        "    OpcionCall.BSM.setup(vol, r)\n",
        "    OpcionCall.setPricingModel(ValLry.PricingModel.BLACK_SCHOLES)\n",
        "\n",
        "    #Add option to portfolio\n",
        "    if(positions[i] == 'L'):\n",
        "        BFS.longInstrument(\"Option_{}\".format(i), OpcionCall)\n",
        "    else:\n",
        "        BFS.shortInstrument(\"Option_{}\".format(i), OpcionCall)\n",
        "\n",
        "    i += 1\n",
        "\n",
        "#####################################################################\n",
        "\n",
        "# Payoff butterfly spread\n",
        "S = np.linspace(K0 - 2 * dK, K0 + 2 * dK, 100)\n",
        "Value_straddle = BFS.price(1.,S)\n",
        "plt.plot(S,Value_straddle)\n",
        "plt.show()\n",
        "\n",
        "# Price butterfly spread\n",
        "Value_straddle = BFS.price(0.,S)\n",
        "plt.plot(S,Value_straddle)\n",
        "plt.show()\n",
        "\n",
        "print(\"d2C/dK2 =(aprox)= {}\".format(BFS.price(0.,K0)/(dK)**2))"
      ],
      "metadata": {
        "colab": {
          "base_uri": "https://localhost:8080/",
          "height": 860
        },
        "id": "LMCwRbzqoxOd",
        "outputId": "63473cdc-b471-4a1d-f2f0-9cac810742af"
      },
      "execution_count": 12,
      "outputs": [
        {
          "output_type": "display_data",
          "data": {
            "text/plain": [
              "<Figure size 640x480 with 1 Axes>"
            ],
            "image/png": "[encoded data removed]"
          },
          "metadata": {}
        },
        {
          "output_type": "display_data",
          "data": {
            "text/plain": [
              "<Figure size 640x480 with 1 Axes>"
            ],
            "image/png": "[encoded data removed]"
          },
          "metadata": {}
        },
        {
          "output_type": "stream",
          "name": "stdout",
          "text": [
            "d2C/dK2 =(aprox)= 0.01918299415796433\n"
          ]
        }
      ]
    }
  ]
}